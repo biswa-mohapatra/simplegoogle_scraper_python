{
 "cells": [
  {
   "cell_type": "code",
   "execution_count": 1,
   "metadata": {},
   "outputs": [],
   "source": [
    "from scrape_google import scrape_google"
   ]
  },
  {
   "cell_type": "code",
   "execution_count": 2,
   "metadata": {},
   "outputs": [
    {
     "name": "stdout",
     "output_type": "stream",
     "text": [
      "[2023-01-18 01:55:45,742 :: INFO :: scrape_google] :: Fetched the search result for the provided query!\n"
     ]
    },
    {
     "data": {
      "text/plain": [
       "[{'url': 'https://en.wikipedia.org/wiki/%22Hello,_World!%22_program',\n",
       "  'title': '&quot;Hello, World!&quot; program - Wikipedia',\n",
       "  'description': 'A \"Hello, World!\" program is generally a computer program that ignores any input and outputs or displays a message similar to \"Hello, World!\".'},\n",
       " {'url': 'https://thehelloworld.com/',\n",
       "  'title': 'HelloWorld Coliving &amp; Student Hostels',\n",
       "  'description': 'Hello World provides coliving, student housing, coworking, social spaces and natural habitats to those exploring the evolution of humanity through positive\\xa0...'},\n",
       " {'url': 'https://code.org/helloworld',\n",
       "  'title': 'Hello World | Code.org',\n",
       "  'description': 'Hello World! In Computer Science 101, the first program many students create is a simple one that outputs an iconic line of text: \"Hello World!'},\n",
       " {'url': 'https://www.learnpython.org/en/Hello,_World!',\n",
       "  'title': 'Hello, World! - Learn Python - Free Interactive Python Tutorial',\n",
       "  'description': 'Hello, World! Python is a very simple language, and has a very straightforward syntax. It encourages programmers to program without boilerplate (prepared) code.'},\n",
       " {'url': 'https://www.imdb.com/title/tt9418812/',\n",
       "  'title': 'Hello World (2019) - IMDb',\n",
       "  'description': 'Hello World: Directed by Tomohiko Itô. With Haruka Fukuhara, Minami Hamabe, Takumi Kitamura, Minako Kotobuki. A man travels in time from the year 2027 to\\xa0...'},\n",
       " {'url': 'https://docs.github.com/en/get-started/quickstart/hello-world',\n",
       "  'title': 'Hello World - GitHub Docs',\n",
       "  'description': \"You'll create your own Hello World repository and learn GitHub's pull request workflow, a popular way to create and review code. In this quickstart guide,\\xa0...\"},\n",
       " {'url': 'https://www.programiz.com/java-programming/hello-world',\n",
       "  'title': 'Java &quot;Hello World&quot; Program - Programiz',\n",
       "  'description': 'Note: You can use our online Java compiler to run Java programs. Java \"Hello, World!\" Program. // Your First Program class HelloWorld {\\xa0...'},\n",
       " {'url': 'https://docs.oracle.com/javase/tutorial/getStarted/application/index.html',\n",
       "  'title': 'Lesson: A Closer Look at the &quot;Hello World!&quot; Application',\n",
       "  'description': 'The \"Hello World!\" application consists of three primary components: source code comments, the HelloWorldApp class definition, and the main method. The\\xa0...'}]"
      ]
     },
     "execution_count": 2,
     "metadata": {},
     "output_type": "execute_result"
    }
   ],
   "source": [
    "scrape_google.search(search_query=\"Hello world\",search_number=10)"
   ]
  },
  {
   "cell_type": "code",
   "execution_count": null,
   "metadata": {},
   "outputs": [],
   "source": []
  }
 ],
 "metadata": {
  "kernelspec": {
   "display_name": "Python 3",
   "language": "python",
   "name": "python3"
  },
  "language_info": {
   "codemirror_mode": {
    "name": "ipython",
    "version": 3
   },
   "file_extension": ".py",
   "mimetype": "text/x-python",
   "name": "python",
   "nbconvert_exporter": "python",
   "pygments_lexer": "ipython3",
   "version": "3.8.15"
  },
  "orig_nbformat": 4,
  "vscode": {
   "interpreter": {
    "hash": "12240cf32455d9da77b42271434f62071b9db6767dbd35e72d2318ad7cd6cbee"
   }
  }
 },
 "nbformat": 4,
 "nbformat_minor": 2
}
